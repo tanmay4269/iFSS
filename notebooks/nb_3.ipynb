{
 "cells": [
  {
   "cell_type": "code",
   "execution_count": 1,
   "metadata": {},
   "outputs": [
    {
     "name": "stderr",
     "output_type": "stream",
     "text": [
      "/opt/conda/lib/python3.11/site-packages/tqdm/auto.py:21: TqdmWarning: IProgress not found. Please update jupyter and ipywidgets. See https://ipywidgets.readthedocs.io/en/stable/user_install.html\n",
      "  from .autonotebook import tqdm as notebook_tqdm\n"
     ]
    }
   ],
   "source": [
    "import os\n",
    "os.chdir(\"/workspace/custom-approaches/interactive-seg\")\n",
    "\n",
    "from trainer import * \n",
    "\n",
    "cfg = {\n",
    "    ### Data ###\n",
    "    # Dataset\n",
    "    \"data_root\": \"/workspace/custom-approaches/interactive-seg/data/sbd/benchmark_RELEASE/dataset\",\n",
    "    \"mode\": \"segmentation\",\n",
    "    \"dataset_frac\": 1.0,\n",
    "    \"min_target_frac\": 0.05,  # every class with less than \"x\" \n",
    "                            # area coverage in sampled target \n",
    "                            # will be removed                              \n",
    "    \"crop_size\": (320, 480), # HW\n",
    "    \n",
    "    # Dataloader\n",
    "    \"batch_size\": 32,\n",
    "    \"num_workers\": 4,\n",
    "\n",
    "    ### Training ###\n",
    "    \"lr\": 3e-4,\n",
    "\n",
    "    # Trainer\n",
    "    \"epochs\": 10,\n",
    "    \"max_click_iters\": 20,  # number of times new clicks are sampled\n",
    "\n",
    "    ### Logging and Checkpointing ###\n",
    "    \"weights_save_path\": \"./weights/model_1.pth\",\n",
    "\n",
    "    \"ckpt_path\": None,\n",
    "    # \"ckpt_path\": \"./weights/model_1.pth\",\n",
    "}\n",
    "\n",
    "trainer = Trainer(cfg)"
   ]
  },
  {
   "cell_type": "markdown",
   "metadata": {},
   "source": [
    "# Training"
   ]
  },
  {
   "cell_type": "code",
   "execution_count": 2,
   "metadata": {},
   "outputs": [
    {
     "name": "stdout",
     "output_type": "stream",
     "text": [
      "Starting Training...\n",
      "\t Iter [0/234]\t Loss: 0.1994\t IoU: 0.65\n",
      "\t Iter [29/234]\t Loss: 0.1108\t IoU: 0.84\n",
      "\t Iter [58/234]\t Loss: 0.1146\t IoU: 0.83\n",
      "\t Iter [87/234]\t Loss: 0.0996\t IoU: 0.86\n",
      "\t Iter [116/234]\t Loss: 0.0960\t IoU: 0.88\n",
      "\t Iter [145/234]\t Loss: 0.0912\t IoU: 0.85\n",
      "\t Iter [174/234]\t Loss: 0.0856\t IoU: 0.88\n",
      "\t Iter [203/234]\t Loss: 0.1069\t IoU: 0.85\n",
      "\t Iter [232/234]\t Loss: 0.0758\t IoU: 0.87\n"
     ]
    }
   ],
   "source": [
    "trainer.run()"
   ]
  },
  {
   "cell_type": "markdown",
   "metadata": {},
   "source": [
    "# Inference after training"
   ]
  },
  {
   "cell_type": "code",
   "execution_count": null,
   "metadata": {},
   "outputs": [],
   "source": [
    "trainer.visualize(20)"
   ]
  }
 ],
 "metadata": {
  "kernelspec": {
   "display_name": "base",
   "language": "python",
   "name": "python3"
  },
  "language_info": {
   "codemirror_mode": {
    "name": "ipython",
    "version": 3
   },
   "file_extension": ".py",
   "mimetype": "text/x-python",
   "name": "python",
   "nbconvert_exporter": "python",
   "pygments_lexer": "ipython3",
   "version": "3.11.9"
  }
 },
 "nbformat": 4,
 "nbformat_minor": 2
}
